{
 "cells": [
  {
   "cell_type": "markdown",
   "metadata": {},
   "source": [
    "# THE KNOWLEDGE-BASED RECOMMENDER"
   ]
  },
  {
   "cell_type": "code",
   "execution_count": 13,
   "metadata": {},
   "outputs": [
    {
     "name": "stderr",
     "output_type": "stream",
     "text": [
      "C:\\Users\\minhh\\AppData\\Local\\Temp\\ipykernel_76024\\752986931.py:4: DtypeWarning: Columns (10) have mixed types. Specify dtype option on import or set low_memory=False.\n",
      "  df = pd.read_csv('../data/movies_metadata.csv')\n"
     ]
    },
    {
     "data": {
      "text/plain": [
       "Index(['adult', 'belongs_to_collection', 'budget', 'genres', 'homepage', 'id',\n",
       "       'imdb_id', 'original_language', 'original_title', 'overview',\n",
       "       'popularity', 'poster_path', 'production_companies',\n",
       "       'production_countries', 'release_date', 'revenue', 'runtime',\n",
       "       'spoken_languages', 'status', 'tagline', 'title', 'video',\n",
       "       'vote_average', 'vote_count'],\n",
       "      dtype='object')"
      ]
     },
     "execution_count": 13,
     "metadata": {},
     "output_type": "execute_result"
    }
   ],
   "source": [
    "import pandas as pd\n",
    "import numpy as np\n",
    "\n",
    "df = pd.read_csv('../data/movies_metadata.csv')\n",
    "df.columns"
   ]
  },
  {
   "cell_type": "code",
   "execution_count": 14,
   "metadata": {},
   "outputs": [
    {
     "data": {
      "text/html": [
       "<div>\n",
       "<style scoped>\n",
       "    .dataframe tbody tr th:only-of-type {\n",
       "        vertical-align: middle;\n",
       "    }\n",
       "\n",
       "    .dataframe tbody tr th {\n",
       "        vertical-align: top;\n",
       "    }\n",
       "\n",
       "    .dataframe thead th {\n",
       "        text-align: right;\n",
       "    }\n",
       "</style>\n",
       "<table border=\"1\" class=\"dataframe\">\n",
       "  <thead>\n",
       "    <tr style=\"text-align: right;\">\n",
       "      <th></th>\n",
       "      <th>title</th>\n",
       "      <th>genres</th>\n",
       "      <th>release_date</th>\n",
       "      <th>runtime</th>\n",
       "      <th>vote_average</th>\n",
       "      <th>vote_count</th>\n",
       "    </tr>\n",
       "  </thead>\n",
       "  <tbody>\n",
       "    <tr>\n",
       "      <th>0</th>\n",
       "      <td>Toy Story</td>\n",
       "      <td>[{'id': 16, 'name': 'Animation'}, {'id': 35, '...</td>\n",
       "      <td>1995-10-30</td>\n",
       "      <td>81.0</td>\n",
       "      <td>7.7</td>\n",
       "      <td>5415.0</td>\n",
       "    </tr>\n",
       "    <tr>\n",
       "      <th>1</th>\n",
       "      <td>Jumanji</td>\n",
       "      <td>[{'id': 12, 'name': 'Adventure'}, {'id': 14, '...</td>\n",
       "      <td>1995-12-15</td>\n",
       "      <td>104.0</td>\n",
       "      <td>6.9</td>\n",
       "      <td>2413.0</td>\n",
       "    </tr>\n",
       "    <tr>\n",
       "      <th>2</th>\n",
       "      <td>Grumpier Old Men</td>\n",
       "      <td>[{'id': 10749, 'name': 'Romance'}, {'id': 35, ...</td>\n",
       "      <td>1995-12-22</td>\n",
       "      <td>101.0</td>\n",
       "      <td>6.5</td>\n",
       "      <td>92.0</td>\n",
       "    </tr>\n",
       "    <tr>\n",
       "      <th>3</th>\n",
       "      <td>Waiting to Exhale</td>\n",
       "      <td>[{'id': 35, 'name': 'Comedy'}, {'id': 18, 'nam...</td>\n",
       "      <td>1995-12-22</td>\n",
       "      <td>127.0</td>\n",
       "      <td>6.1</td>\n",
       "      <td>34.0</td>\n",
       "    </tr>\n",
       "    <tr>\n",
       "      <th>4</th>\n",
       "      <td>Father of the Bride Part II</td>\n",
       "      <td>[{'id': 35, 'name': 'Comedy'}]</td>\n",
       "      <td>1995-02-10</td>\n",
       "      <td>106.0</td>\n",
       "      <td>5.7</td>\n",
       "      <td>173.0</td>\n",
       "    </tr>\n",
       "  </tbody>\n",
       "</table>\n",
       "</div>"
      ],
      "text/plain": [
       "                         title  \\\n",
       "0                    Toy Story   \n",
       "1                      Jumanji   \n",
       "2             Grumpier Old Men   \n",
       "3            Waiting to Exhale   \n",
       "4  Father of the Bride Part II   \n",
       "\n",
       "                                              genres release_date  runtime  \\\n",
       "0  [{'id': 16, 'name': 'Animation'}, {'id': 35, '...   1995-10-30     81.0   \n",
       "1  [{'id': 12, 'name': 'Adventure'}, {'id': 14, '...   1995-12-15    104.0   \n",
       "2  [{'id': 10749, 'name': 'Romance'}, {'id': 35, ...   1995-12-22    101.0   \n",
       "3  [{'id': 35, 'name': 'Comedy'}, {'id': 18, 'nam...   1995-12-22    127.0   \n",
       "4                     [{'id': 35, 'name': 'Comedy'}]   1995-02-10    106.0   \n",
       "\n",
       "   vote_average  vote_count  \n",
       "0           7.7      5415.0  \n",
       "1           6.9      2413.0  \n",
       "2           6.5        92.0  \n",
       "3           6.1        34.0  \n",
       "4           5.7       173.0  "
      ]
     },
     "execution_count": 14,
     "metadata": {},
     "output_type": "execute_result"
    }
   ],
   "source": [
    "# Only keep those features that we require\n",
    "df = df[['title', 'genres', 'release_date', 'runtime', 'vote_average', 'vote_count']]\n",
    "df.head()"
   ]
  },
  {
   "cell_type": "code",
   "execution_count": 15,
   "metadata": {},
   "outputs": [],
   "source": [
    "# Convert release_date into pandas datetime format\n",
    "df['release_date'] = pd.to_datetime(df['release_date'], errors='coerce')\n",
    "\n",
    "# Extract year from the datetime\n",
    "df['year'] = df['release_date'].apply(lambda x: str(x).split('-')[0] if x != np.nan else np.nan)"
   ]
  },
  {
   "cell_type": "code",
   "execution_count": 16,
   "metadata": {},
   "outputs": [],
   "source": [
    "# Helper function to convert NaT to 0 and all other years to integers.\n",
    "def convert_int(x):\n",
    "    try:\n",
    "        return int(x)\n",
    "    except:\n",
    "        return 0\n",
    "\n",
    "# Apply convert_int to the year feature\n",
    "df['year'] = df['year'].apply(convert_int)"
   ]
  },
  {
   "cell_type": "code",
   "execution_count": 17,
   "metadata": {},
   "outputs": [
    {
     "name": "stdout",
     "output_type": "stream",
     "text": [
      "                         title  \\\n",
      "0                    Toy Story   \n",
      "1                      Jumanji   \n",
      "2             Grumpier Old Men   \n",
      "3            Waiting to Exhale   \n",
      "4  Father of the Bride Part II   \n",
      "\n",
      "                                              genres  runtime  vote_average  \\\n",
      "0  [{'id': 16, 'name': 'Animation'}, {'id': 35, '...     81.0           7.7   \n",
      "1  [{'id': 12, 'name': 'Adventure'}, {'id': 14, '...    104.0           6.9   \n",
      "2  [{'id': 10749, 'name': 'Romance'}, {'id': 35, ...    101.0           6.5   \n",
      "3  [{'id': 35, 'name': 'Comedy'}, {'id': 18, 'nam...    127.0           6.1   \n",
      "4                     [{'id': 35, 'name': 'Comedy'}]    106.0           5.7   \n",
      "\n",
      "   vote_count  year  \n",
      "0      5415.0  1995  \n",
      "1      2413.0  1995  \n",
      "2        92.0  1995  \n",
      "3        34.0  1995  \n",
      "4       173.0  1995  \n",
      "<class 'pandas.core.frame.DataFrame'>\n",
      "RangeIndex: 45466 entries, 0 to 45465\n",
      "Data columns (total 6 columns):\n",
      " #   Column        Non-Null Count  Dtype  \n",
      "---  ------        --------------  -----  \n",
      " 0   title         45460 non-null  object \n",
      " 1   genres        45466 non-null  object \n",
      " 2   runtime       45203 non-null  float64\n",
      " 3   vote_average  45460 non-null  float64\n",
      " 4   vote_count    45460 non-null  float64\n",
      " 5   year          45466 non-null  int64  \n",
      "dtypes: float64(3), int64(1), object(2)\n",
      "memory usage: 2.1+ MB\n",
      "None\n"
     ]
    }
   ],
   "source": [
    "# Drop the release_date column\n",
    "df = df.drop('release_date', axis=1)\n",
    "\n",
    "# Display the dataframe\n",
    "print(df.head())\n",
    "print(df.info())"
   ]
  },
  {
   "cell_type": "markdown",
   "metadata": {},
   "source": [
    "## Genres"
   ]
  },
  {
   "cell_type": "code",
   "execution_count": 18,
   "metadata": {},
   "outputs": [
    {
     "data": {
      "text/plain": [
       "\"[{'id': 16, 'name': 'Animation'}, {'id': 35, 'name': 'Comedy'}, {'id': 10751, 'name': 'Family'}]\""
      ]
     },
     "execution_count": 18,
     "metadata": {},
     "output_type": "execute_result"
    }
   ],
   "source": [
    "# Print genres of the first movie\n",
    "df.iloc[0]['genres']"
   ]
  },
  {
   "cell_type": "code",
   "execution_count": 19,
   "metadata": {},
   "outputs": [
    {
     "name": "stdout",
     "output_type": "stream",
     "text": [
      "<class 'str'>\n",
      "<class 'list'>\n"
     ]
    }
   ],
   "source": [
    "# Import the literal_eval function from ast\n",
    "from ast import literal_eval\n",
    "\n",
    "# Define a stringified list and output its type\n",
    "a = \"[{'id': 16, 'name': 'Animation'}, {'id': 35, 'name': 'Comedy'}, {'id': 10751, 'name': 'Family'}]\"\n",
    "print(type(a))\n",
    "\n",
    "# Apply literal_eval and output type\n",
    "b = literal_eval(a)\n",
    "print(type(b))"
   ]
  },
  {
   "cell_type": "code",
   "execution_count": 20,
   "metadata": {},
   "outputs": [
    {
     "data": {
      "text/html": [
       "<div>\n",
       "<style scoped>\n",
       "    .dataframe tbody tr th:only-of-type {\n",
       "        vertical-align: middle;\n",
       "    }\n",
       "\n",
       "    .dataframe tbody tr th {\n",
       "        vertical-align: top;\n",
       "    }\n",
       "\n",
       "    .dataframe thead th {\n",
       "        text-align: right;\n",
       "    }\n",
       "</style>\n",
       "<table border=\"1\" class=\"dataframe\">\n",
       "  <thead>\n",
       "    <tr style=\"text-align: right;\">\n",
       "      <th></th>\n",
       "      <th>title</th>\n",
       "      <th>genres</th>\n",
       "      <th>runtime</th>\n",
       "      <th>vote_average</th>\n",
       "      <th>vote_count</th>\n",
       "      <th>year</th>\n",
       "    </tr>\n",
       "  </thead>\n",
       "  <tbody>\n",
       "    <tr>\n",
       "      <th>0</th>\n",
       "      <td>Toy Story</td>\n",
       "      <td>[Animation, Comedy, Family]</td>\n",
       "      <td>81.0</td>\n",
       "      <td>7.7</td>\n",
       "      <td>5415.0</td>\n",
       "      <td>1995</td>\n",
       "    </tr>\n",
       "    <tr>\n",
       "      <th>1</th>\n",
       "      <td>Jumanji</td>\n",
       "      <td>[Adventure, Fantasy, Family]</td>\n",
       "      <td>104.0</td>\n",
       "      <td>6.9</td>\n",
       "      <td>2413.0</td>\n",
       "      <td>1995</td>\n",
       "    </tr>\n",
       "    <tr>\n",
       "      <th>2</th>\n",
       "      <td>Grumpier Old Men</td>\n",
       "      <td>[Romance, Comedy]</td>\n",
       "      <td>101.0</td>\n",
       "      <td>6.5</td>\n",
       "      <td>92.0</td>\n",
       "      <td>1995</td>\n",
       "    </tr>\n",
       "    <tr>\n",
       "      <th>3</th>\n",
       "      <td>Waiting to Exhale</td>\n",
       "      <td>[Comedy, Drama, Romance]</td>\n",
       "      <td>127.0</td>\n",
       "      <td>6.1</td>\n",
       "      <td>34.0</td>\n",
       "      <td>1995</td>\n",
       "    </tr>\n",
       "    <tr>\n",
       "      <th>4</th>\n",
       "      <td>Father of the Bride Part II</td>\n",
       "      <td>[Comedy]</td>\n",
       "      <td>106.0</td>\n",
       "      <td>5.7</td>\n",
       "      <td>173.0</td>\n",
       "      <td>1995</td>\n",
       "    </tr>\n",
       "  </tbody>\n",
       "</table>\n",
       "</div>"
      ],
      "text/plain": [
       "                         title                        genres  runtime  \\\n",
       "0                    Toy Story   [Animation, Comedy, Family]     81.0   \n",
       "1                      Jumanji  [Adventure, Fantasy, Family]    104.0   \n",
       "2             Grumpier Old Men             [Romance, Comedy]    101.0   \n",
       "3            Waiting to Exhale      [Comedy, Drama, Romance]    127.0   \n",
       "4  Father of the Bride Part II                      [Comedy]    106.0   \n",
       "\n",
       "   vote_average  vote_count  year  \n",
       "0           7.7      5415.0  1995  \n",
       "1           6.9      2413.0  1995  \n",
       "2           6.5        92.0  1995  \n",
       "3           6.1        34.0  1995  \n",
       "4           5.7       173.0  1995  "
      ]
     },
     "execution_count": 20,
     "metadata": {},
     "output_type": "execute_result"
    }
   ],
   "source": [
    "# Convert all NaN into stringified empty lists\n",
    "df.loc[:,'genres'] = df['genres'].fillna('[]')\n",
    "\n",
    "# Apply literal_eval to convert to the list object\n",
    "df.loc[:, 'genres'] = df['genres'].apply(literal_eval)\n",
    "\n",
    "# Convert list of dictionaries to a list of strings\n",
    "df.loc[:, 'genres'] = df['genres'].apply(lambda x: [i['name'] for i in x] if isinstance(x, list) else [])\n",
    "\n",
    "df.head()"
   ]
  },
  {
   "cell_type": "code",
   "execution_count": 21,
   "metadata": {},
   "outputs": [
    {
     "name": "stdout",
     "output_type": "stream",
     "text": [
      "       title  runtime  vote_average  vote_count  year      genre\n",
      "0  Toy Story     81.0           7.7      5415.0  1995  Animation\n",
      "0  Toy Story     81.0           7.7      5415.0  1995     Comedy\n",
      "0  Toy Story     81.0           7.7      5415.0  1995     Family\n",
      "1    Jumanji    104.0           6.9      2413.0  1995  Adventure\n",
      "1    Jumanji    104.0           6.9      2413.0  1995    Fantasy\n"
     ]
    }
   ],
   "source": [
    "# Create a new feature by exploding genres\n",
    "s = df.apply(lambda x: pd.Series(x['genres']),axis=1).stack().reset_index(level=1, drop=True)\n",
    "\n",
    "# Name the new feature as 'genre'\n",
    "s.name = 'genre'\n",
    "\n",
    "# Create a new dataframe gen_df which by dropping the old 'genres' feature and adding the new 'genre'.\n",
    "gen_df = df.drop('genres', axis=1).join(s)\n",
    "\n",
    "# Print the head of the new gen_df\n",
    "print(gen_df.head())"
   ]
  },
  {
   "cell_type": "code",
   "execution_count": 22,
   "metadata": {},
   "outputs": [
    {
     "data": {
      "text/html": [
       "<div>\n",
       "<style scoped>\n",
       "    .dataframe tbody tr th:only-of-type {\n",
       "        vertical-align: middle;\n",
       "    }\n",
       "\n",
       "    .dataframe tbody tr th {\n",
       "        vertical-align: top;\n",
       "    }\n",
       "\n",
       "    .dataframe thead th {\n",
       "        text-align: right;\n",
       "    }\n",
       "</style>\n",
       "<table border=\"1\" class=\"dataframe\">\n",
       "  <thead>\n",
       "    <tr style=\"text-align: right;\">\n",
       "      <th></th>\n",
       "      <th>title</th>\n",
       "      <th>runtime</th>\n",
       "      <th>vote_average</th>\n",
       "      <th>vote_count</th>\n",
       "      <th>year</th>\n",
       "      <th>genre</th>\n",
       "      <th>score</th>\n",
       "    </tr>\n",
       "  </thead>\n",
       "  <tbody>\n",
       "    <tr>\n",
       "      <th>9698</th>\n",
       "      <td>Howl's Moving Castle</td>\n",
       "      <td>119.0</td>\n",
       "      <td>8.2</td>\n",
       "      <td>2049.0</td>\n",
       "      <td>2004</td>\n",
       "      <td>Animation</td>\n",
       "      <td>7.994823</td>\n",
       "    </tr>\n",
       "    <tr>\n",
       "      <th>359</th>\n",
       "      <td>The Lion King</td>\n",
       "      <td>89.0</td>\n",
       "      <td>8.0</td>\n",
       "      <td>5520.0</td>\n",
       "      <td>1994</td>\n",
       "      <td>Animation</td>\n",
       "      <td>7.926672</td>\n",
       "    </tr>\n",
       "    <tr>\n",
       "      <th>0</th>\n",
       "      <td>Toy Story</td>\n",
       "      <td>81.0</td>\n",
       "      <td>7.7</td>\n",
       "      <td>5415.0</td>\n",
       "      <td>1995</td>\n",
       "      <td>Animation</td>\n",
       "      <td>7.637500</td>\n",
       "    </tr>\n",
       "    <tr>\n",
       "      <th>6232</th>\n",
       "      <td>Finding Nemo</td>\n",
       "      <td>100.0</td>\n",
       "      <td>7.6</td>\n",
       "      <td>6292.0</td>\n",
       "      <td>2003</td>\n",
       "      <td>Animation</td>\n",
       "      <td>7.549423</td>\n",
       "    </tr>\n",
       "    <tr>\n",
       "      <th>546</th>\n",
       "      <td>The Nightmare Before Christmas</td>\n",
       "      <td>76.0</td>\n",
       "      <td>7.6</td>\n",
       "      <td>2135.0</td>\n",
       "      <td>1993</td>\n",
       "      <td>Animation</td>\n",
       "      <td>7.460500</td>\n",
       "    </tr>\n",
       "  </tbody>\n",
       "</table>\n",
       "</div>"
      ],
      "text/plain": [
       "                               title  runtime  vote_average  vote_count  year  \\\n",
       "9698            Howl's Moving Castle    119.0           8.2      2049.0  2004   \n",
       "359                    The Lion King     89.0           8.0      5520.0  1994   \n",
       "0                          Toy Story     81.0           7.7      5415.0  1995   \n",
       "6232                    Finding Nemo    100.0           7.6      6292.0  2003   \n",
       "546   The Nightmare Before Christmas     76.0           7.6      2135.0  1993   \n",
       "\n",
       "          genre     score  \n",
       "9698  Animation  7.994823  \n",
       "359   Animation  7.926672  \n",
       "0     Animation  7.637500  \n",
       "6232  Animation  7.549423  \n",
       "546   Animation  7.460500  "
      ]
     },
     "execution_count": 22,
     "metadata": {},
     "output_type": "execute_result"
    }
   ],
   "source": [
    "def build_chart(gen_df, percentile = 0.8):\n",
    "\n",
    "    genre = 'Animation'\n",
    "    low_time = 30\n",
    "    high_time = 120\n",
    "    low_year = 1990\n",
    "    high_year = 2005\n",
    "\n",
    "    movies = gen_df.copy()\n",
    "\n",
    "    # Filter based on the condition\n",
    "    movies = movies[(movies['genre'] == genre) &\n",
    "                    (movies['runtime'] >= low_time) &\n",
    "                    (movies['runtime'] <= high_time) &\n",
    "                    (movies['year'] >= low_year) &\n",
    "                    (movies['year'] <= high_year)]\n",
    "\n",
    "    # Compute the values of C and m for the filtered movies\n",
    "    C = movies['vote_average'].mean()\n",
    "    m = movies['vote_count'].quantile(percentile)\n",
    "\n",
    "    # Only consider movies that have higher than m votes. Save this in a new dataframe q_movies\n",
    "    q_movies = movies.copy().loc[movies['vote_count'] >= m]\n",
    "\n",
    "    # Calculate score using the IMDB formula\n",
    "    q_movies['score'] = q_movies.apply(lambda x: (x['vote_count']/(x['vote_count']+m) * x['vote_average']) + (m/(m+x['vote_count']) * C), axis=1)\n",
    "\n",
    "    # Sort movies in descending order of their scores\n",
    "    q_movies = q_movies.sort_values('score', ascending=False)\n",
    "\n",
    "    return q_movies\n",
    "\n",
    "# Generate the chart for top animation movies and display top 5.\n",
    "build_chart(gen_df).head()"
   ]
  },
  {
   "cell_type": "code",
   "execution_count": 23,
   "metadata": {},
   "outputs": [],
   "source": [
    "df.to_csv('../data/metadata_clean.csv', index=False)"
   ]
  }
 ],
 "metadata": {
  "kernelspec": {
   "display_name": "Python 3",
   "language": "python",
   "name": "python3"
  },
  "language_info": {
   "codemirror_mode": {
    "name": "ipython",
    "version": 3
   },
   "file_extension": ".py",
   "mimetype": "text/x-python",
   "name": "python",
   "nbconvert_exporter": "python",
   "pygments_lexer": "ipython3",
   "version": "3.9.13"
  }
 },
 "nbformat": 4,
 "nbformat_minor": 2
}
