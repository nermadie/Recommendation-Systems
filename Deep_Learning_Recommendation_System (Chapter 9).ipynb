{
 "cells": [
  {
   "cell_type": "code",
   "execution_count": 1,
   "metadata": {
    "id": "AekEB0E8Msx3"
   },
   "outputs": [],
   "source": [
    "#!pip install recommenders[gpu] -f https://download.pytorch.org/whl/cu111/torch_stable.html"
   ]
  },
  {
   "cell_type": "code",
   "execution_count": 2,
   "metadata": {
    "id": "UsLaFbgbNpdF"
   },
   "outputs": [],
   "source": [
    "%load_ext autoreload\n",
    "%autoreload 2"
   ]
  },
  {
   "cell_type": "code",
   "execution_count": 3,
   "metadata": {
    "colab": {
     "base_uri": "https://localhost:8080/"
    },
    "id": "a7MjktOsNxJr",
    "outputId": "4c71eca8-1b17-47f0-9e18-aa5a4bfdb3a7"
   },
   "outputs": [
    {
     "name": "stdout",
     "output_type": "stream",
     "text": [
      "System version: 3.9.13 (tags/v3.9.13:6de2ca5, May 17 2022, 16:36:42) [MSC v.1929 64 bit (AMD64)]\n",
      "Pandas version: 1.5.3\n",
      "Tensorflow version: 2.16.1\n"
     ]
    }
   ],
   "source": [
    "import sys\n",
    "import pandas as pd\n",
    "import tensorflow as tf\n",
    "tf.get_logger().setLevel('ERROR') # only show error messages\n",
    "\n",
    "from recommenders.utils.timer import Timer\n",
    "from recommenders.models.ncf.ncf_singlenode import NCF\n",
    "from recommenders.models.ncf.dataset import Dataset as NCFDataset\n",
    "#from recommenders.datasets import movielens\n",
    "from recommenders.utils.notebook_utils import is_jupyter\n",
    "from recommenders.datasets.python_splitters import python_chrono_split,python_stratified_split\n",
    "from recommenders.evaluation.python_evaluation import (rmse, mae, rsquared, exp_var, map_at_k, ndcg_at_k, precision_at_k,\n",
    "                                                     recall_at_k, get_top_k_items)\n",
    "\n",
    "print(\"System version: {}\".format(sys.version))\n",
    "print(\"Pandas version: {}\".format(pd.__version__))\n",
    "print(\"Tensorflow version: {}\".format(tf.__version__))"
   ]
  },
  {
   "cell_type": "code",
   "execution_count": 4,
   "metadata": {
    "id": "MGFvEHcnOW7d"
   },
   "outputs": [],
   "source": [
    "# top k items to recommend\n",
    "TOP_K = 10\n",
    "\n",
    "# Select MovieLens data size: 100k, 1m, 10m, or 20m\n",
    "#MOVIELENS_DATA_SIZE = '100k'\n",
    "\n",
    "# Model parameters\n",
    "EPOCHS = 50\n",
    "BATCH_SIZE = 256\n",
    "\n",
    "SEED = 42"
   ]
  },
  {
   "cell_type": "markdown",
   "metadata": {
    "id": "iFJ6jg3Hkrze"
   },
   "source": [
    "##1. Load dataset"
   ]
  },
  {
   "cell_type": "code",
   "execution_count": 5,
   "metadata": {
    "colab": {
     "base_uri": "https://localhost:8080/"
    },
    "id": "UKpFFeWoTIOl",
    "outputId": "a8c9bc98-3291-412a-886e-6e6c814bcb79"
   },
   "outputs": [],
   "source": [
    "df = pd.read_excel('./Data/Rec_sys_data.xlsx')"
   ]
  },
  {
   "cell_type": "code",
   "execution_count": 6,
   "metadata": {
    "id": "_LxvPPL4T54E"
   },
   "outputs": [],
   "source": [
    "df= df[['CustomerID','StockCode','Quantity','DeliveryDate']]"
   ]
  },
  {
   "cell_type": "code",
   "execution_count": 7,
   "metadata": {},
   "outputs": [],
   "source": [
    "df[\"StockCode\"] = df[\"StockCode\"].apply(lambda x: pd.to_numeric(x, errors='coerce')).dropna()"
   ]
  },
  {
   "cell_type": "code",
   "execution_count": 8,
   "metadata": {
    "colab": {
     "base_uri": "https://localhost:8080/",
     "height": 441
    },
    "id": "1qV4Lqp1Ux8g",
    "outputId": "530af003-c52c-4371-bcb6-9387982256aa",
    "scrolled": true
   },
   "outputs": [
    {
     "name": "stdout",
     "output_type": "stream",
     "text": [
      "(246706, 4)\n"
     ]
    },
    {
     "data": {
      "text/html": [
       "<div>\n",
       "<style scoped>\n",
       "    .dataframe tbody tr th:only-of-type {\n",
       "        vertical-align: middle;\n",
       "    }\n",
       "\n",
       "    .dataframe tbody tr th {\n",
       "        vertical-align: top;\n",
       "    }\n",
       "\n",
       "    .dataframe thead th {\n",
       "        text-align: right;\n",
       "    }\n",
       "</style>\n",
       "<table border=\"1\" class=\"dataframe\">\n",
       "  <thead>\n",
       "    <tr style=\"text-align: right;\">\n",
       "      <th></th>\n",
       "      <th>CustomerID</th>\n",
       "      <th>StockCode</th>\n",
       "      <th>Quantity</th>\n",
       "      <th>DeliveryDate</th>\n",
       "    </tr>\n",
       "  </thead>\n",
       "  <tbody>\n",
       "    <tr>\n",
       "      <th>1</th>\n",
       "      <td>17850</td>\n",
       "      <td>71053.0</td>\n",
       "      <td>6</td>\n",
       "      <td>2010-12-02 08:26:00</td>\n",
       "    </tr>\n",
       "    <tr>\n",
       "      <th>2</th>\n",
       "      <td>17850</td>\n",
       "      <td>21730.0</td>\n",
       "      <td>6</td>\n",
       "      <td>2010-12-03 08:26:00</td>\n",
       "    </tr>\n",
       "    <tr>\n",
       "      <th>4</th>\n",
       "      <td>17850</td>\n",
       "      <td>22752.0</td>\n",
       "      <td>2</td>\n",
       "      <td>2010-12-04 08:26:00</td>\n",
       "    </tr>\n",
       "    <tr>\n",
       "      <th>7</th>\n",
       "      <td>17850</td>\n",
       "      <td>22633.0</td>\n",
       "      <td>6</td>\n",
       "      <td>2010-12-04 08:28:00</td>\n",
       "    </tr>\n",
       "    <tr>\n",
       "      <th>8</th>\n",
       "      <td>17850</td>\n",
       "      <td>22632.0</td>\n",
       "      <td>6</td>\n",
       "      <td>2010-12-03 08:28:00</td>\n",
       "    </tr>\n",
       "    <tr>\n",
       "      <th>...</th>\n",
       "      <td>...</td>\n",
       "      <td>...</td>\n",
       "      <td>...</td>\n",
       "      <td>...</td>\n",
       "    </tr>\n",
       "    <tr>\n",
       "      <th>272399</th>\n",
       "      <td>15249</td>\n",
       "      <td>23399.0</td>\n",
       "      <td>12</td>\n",
       "      <td>2011-10-08 11:37:00</td>\n",
       "    </tr>\n",
       "    <tr>\n",
       "      <th>272400</th>\n",
       "      <td>15249</td>\n",
       "      <td>22727.0</td>\n",
       "      <td>4</td>\n",
       "      <td>2011-10-08 11:37:00</td>\n",
       "    </tr>\n",
       "    <tr>\n",
       "      <th>272401</th>\n",
       "      <td>15249</td>\n",
       "      <td>23434.0</td>\n",
       "      <td>12</td>\n",
       "      <td>2011-10-08 11:37:00</td>\n",
       "    </tr>\n",
       "    <tr>\n",
       "      <th>272402</th>\n",
       "      <td>15249</td>\n",
       "      <td>23340.0</td>\n",
       "      <td>12</td>\n",
       "      <td>2011-10-07 11:37:00</td>\n",
       "    </tr>\n",
       "    <tr>\n",
       "      <th>272403</th>\n",
       "      <td>15249</td>\n",
       "      <td>23209.0</td>\n",
       "      <td>10</td>\n",
       "      <td>2011-10-08 11:37:00</td>\n",
       "    </tr>\n",
       "  </tbody>\n",
       "</table>\n",
       "<p>246706 rows × 4 columns</p>\n",
       "</div>"
      ],
      "text/plain": [
       "        CustomerID  StockCode  Quantity        DeliveryDate\n",
       "1            17850    71053.0         6 2010-12-02 08:26:00\n",
       "2            17850    21730.0         6 2010-12-03 08:26:00\n",
       "4            17850    22752.0         2 2010-12-04 08:26:00\n",
       "7            17850    22633.0         6 2010-12-04 08:28:00\n",
       "8            17850    22632.0         6 2010-12-03 08:28:00\n",
       "...            ...        ...       ...                 ...\n",
       "272399       15249    23399.0        12 2011-10-08 11:37:00\n",
       "272400       15249    22727.0         4 2011-10-08 11:37:00\n",
       "272401       15249    23434.0        12 2011-10-08 11:37:00\n",
       "272402       15249    23340.0        12 2011-10-07 11:37:00\n",
       "272403       15249    23209.0        10 2011-10-08 11:37:00\n",
       "\n",
       "[246706 rows x 4 columns]"
      ]
     },
     "execution_count": 8,
     "metadata": {},
     "output_type": "execute_result"
    }
   ],
   "source": [
    "df = df.dropna()\n",
    "print(df.shape)\n",
    "df"
   ]
  },
  {
   "cell_type": "markdown",
   "metadata": {
    "id": "YqSgGwwdd48o"
   },
   "source": []
  },
  {
   "cell_type": "code",
   "execution_count": 9,
   "metadata": {
    "id": "C67TctvNd5mu"
   },
   "outputs": [],
   "source": [
    "#header=[\"userID\", \"itemID\", \"rating\", \"timestamp\"]\n",
    "\n",
    "df = df.rename(columns={\n",
    "\n",
    "    'CustomerID':\"userID\",'StockCode':\"itemID\",'Quantity':\"rating\",'DeliveryDate':\"timestamp\"\n",
    "\n",
    "})\n",
    "\n",
    "df[\"userID\"] = df[\"userID\"].astype(int)\n",
    "df[\"itemID\"] = df[\"itemID\"].astype(int)"
   ]
  },
  {
   "cell_type": "markdown",
   "metadata": {
    "id": "8OScdDfHkjpk"
   },
   "source": [
    "##2. Split the data using the Spark chronological splitter provided in utilities"
   ]
  },
  {
   "cell_type": "code",
   "execution_count": 10,
   "metadata": {
    "id": "aqSnVDYjUjVF"
   },
   "outputs": [],
   "source": [
    "train, test = python_chrono_split(df, 0.75)"
   ]
  },
  {
   "cell_type": "code",
   "execution_count": 11,
   "metadata": {},
   "outputs": [],
   "source": [
    "train_file = \"./train.csv\"\n",
    "test_file = \"./test.csv\"\n",
    "train.to_csv(train_file, index=False)\n",
    "test.to_csv(test_file, index=False)"
   ]
  },
  {
   "cell_type": "code",
   "execution_count": 12,
   "metadata": {
    "scrolled": true
   },
   "outputs": [
    {
     "name": "stdout",
     "output_type": "stream",
     "text": [
      "<class 'pandas.core.frame.DataFrame'>\n",
      "Int64Index: 185041 entries, 37126 to 137334\n",
      "Data columns (total 4 columns):\n",
      " #   Column     Non-Null Count   Dtype         \n",
      "---  ------     --------------   -----         \n",
      " 0   userID     185041 non-null  int32         \n",
      " 1   itemID     185041 non-null  int32         \n",
      " 2   rating     185041 non-null  int64         \n",
      " 3   timestamp  185041 non-null  datetime64[ns]\n",
      "dtypes: datetime64[ns](1), int32(2), int64(1)\n",
      "memory usage: 5.6 MB\n"
     ]
    }
   ],
   "source": [
    "train.info()"
   ]
  },
  {
   "cell_type": "markdown",
   "metadata": {
    "id": "sMneMQzjkd72"
   },
   "source": [
    "##3. Train the NCF model on the training data, and get the top-k recommendations for our testing data\n",
    "NCF accepts implicit feedback and generates prospensity of items to be recommended to users in the scale of 0 to 1. A recommended item list can then be generated based on the scores. Note that this quickstart notebook is using a smaller number of epochs to reduce time for training. As a consequence, the model performance will be slighlty deteriorated."
   ]
  },
  {
   "cell_type": "code",
   "execution_count": 13,
   "metadata": {
    "id": "Q64_tRl5emGN"
   },
   "outputs": [
    {
     "name": "stderr",
     "output_type": "stream",
     "text": [
      "INFO:recommenders.models.ncf.dataset:Indexing ./train.csv ...\n",
      "INFO:recommenders.models.ncf.dataset:Indexing ./test.csv ...\n",
      "INFO:recommenders.models.ncf.dataset:Creating full leave-one-out test file ./test_full.csv ...\n",
      "100%|██████████| 3498/3498 [01:03<00:00, 55.29it/s]\n",
      "INFO:recommenders.models.ncf.dataset:Indexing ./test_full.csv ...\n"
     ]
    }
   ],
   "source": [
    "data = NCFDataset(train_file=train_file, test_file=test_file, seed=SEED)"
   ]
  },
  {
   "cell_type": "code",
   "execution_count": 14,
   "metadata": {
    "id": "7nrT0JFNfUT4"
   },
   "outputs": [
    {
     "name": "stderr",
     "output_type": "stream",
     "text": [
      "c:\\Users\\minhh\\AppData\\Local\\Programs\\Python\\Python39\\lib\\site-packages\\tensorflow\\python\\keras\\engine\\base_layer_v1.py:1694: UserWarning: `layer.apply` is deprecated and will be removed in a future version. Please use `layer.__call__` method instead.\n",
      "  warnings.warn('`layer.apply` is deprecated and '\n"
     ]
    }
   ],
   "source": [
    "model = NCF (\n",
    "    n_users=data.n_users,\n",
    "    n_items=data.n_items,\n",
    "    model_type=\"NeuMF\",\n",
    "    n_factors=4,\n",
    "    layer_sizes=[16,8,4],\n",
    "    n_epochs=EPOCHS,\n",
    "    batch_size=BATCH_SIZE,\n",
    "    learning_rate=1e-3,\n",
    "    verbose=10,\n",
    "    seed=SEED\n",
    ")"
   ]
  },
  {
   "cell_type": "code",
   "execution_count": 15,
   "metadata": {
    "colab": {
     "base_uri": "https://localhost:8080/"
    },
    "id": "OqQu8zKLfZcM",
    "outputId": "a779117a-a070-4f4b-cbcd-1d21047ec1b6"
   },
   "outputs": [
    {
     "name": "stderr",
     "output_type": "stream",
     "text": [
      "INFO:recommenders.models.ncf.ncf_singlenode:Epoch 10 [16.07s]: train_loss = 0.309034 \n",
      "INFO:recommenders.models.ncf.ncf_singlenode:Epoch 20 [16.39s]: train_loss = 0.293773 \n",
      "INFO:recommenders.models.ncf.ncf_singlenode:Epoch 30 [16.04s]: train_loss = 0.287381 \n",
      "INFO:recommenders.models.ncf.ncf_singlenode:Epoch 40 [17.20s]: train_loss = 0.282960 \n",
      "INFO:recommenders.models.ncf.ncf_singlenode:Epoch 50 [16.97s]: train_loss = 0.279234 \n"
     ]
    },
    {
     "name": "stdout",
     "output_type": "stream",
     "text": [
      "Took 826.3232 seconds for training.\n"
     ]
    }
   ],
   "source": [
    "with Timer() as train_time:\n",
    "    model.fit(data)\n",
    "\n",
    "print(\"Took {} seconds for training.\".format(train_time))"
   ]
  },
  {
   "cell_type": "code",
   "execution_count": 16,
   "metadata": {
    "colab": {
     "base_uri": "https://localhost:8080/"
    },
    "id": "w_YS74rmfeK4",
    "outputId": "37267df5-2b3b-48b6-f191-a6e67e7adbe9"
   },
   "outputs": [
    {
     "name": "stdout",
     "output_type": "stream",
     "text": [
      "Took 99.6731 seconds for prediction.\n"
     ]
    }
   ],
   "source": [
    "with Timer() as test_time:\n",
    "    users, items, preds = [], [], []\n",
    "    item = list(train.itemID.unique())\n",
    "    for user in train.userID.unique():\n",
    "        user = [user] * len(item)\n",
    "        users.extend(user)\n",
    "        items.extend(item)\n",
    "        preds.extend(list(model.predict(user, item, is_list=True)))\n",
    "\n",
    "    all_predictions = pd.DataFrame(data={\"userID\": users, \"itemID\":items, \"prediction\":preds})\n",
    "\n",
    "    merged = pd.merge(train, all_predictions, on=[\"userID\", \"itemID\"], how=\"outer\")\n",
    "    all_predictions = merged[merged.rating.isnull()].drop('rating', axis=1)\n",
    "\n",
    "print(\"Took {} seconds for prediction.\".format(test_time))"
   ]
  },
  {
   "cell_type": "markdown",
   "metadata": {
    "id": "nL_pYSkPj81T"
   },
   "source": [
    "##4. Evaluate how well NCF performs\n",
    "The ranking metrics are used for evaluation."
   ]
  },
  {
   "cell_type": "code",
   "execution_count": 17,
   "metadata": {
    "colab": {
     "base_uri": "https://localhost:8080/"
    },
    "id": "TzsX97Yufk89",
    "outputId": "86ffcb91-443a-48d2-9946-ec9fc62c8314"
   },
   "outputs": [
    {
     "name": "stdout",
     "output_type": "stream",
     "text": [
      "MAP:\t0.024868\n",
      "NDCG:\t0.069798\n",
      "Precision@K:\t0.050229\n",
      "Recall@K:\t0.058984\n"
     ]
    }
   ],
   "source": [
    "eval_map = map_at_k(test, all_predictions, col_prediction='prediction', k=TOP_K)\n",
    "eval_ndcg = ndcg_at_k(test, all_predictions, col_prediction='prediction', k=TOP_K)\n",
    "eval_precision = precision_at_k(test, all_predictions, col_prediction='prediction', k=TOP_K)\n",
    "eval_recall = recall_at_k(test, all_predictions, col_prediction='prediction', k=TOP_K)\n",
    "\n",
    "print(\"MAP:\\t%f\" % eval_map,\n",
    "      \"NDCG:\\t%f\" % eval_ndcg,\n",
    "      \"Precision@K:\\t%f\" % eval_precision,\n",
    "      \"Recall@K:\\t%f\" % eval_recall, sep='\\n')"
   ]
  },
  {
   "cell_type": "code",
   "execution_count": 18,
   "metadata": {
    "id": "sdHaSli43ztH"
   },
   "outputs": [],
   "source": [
    "df_order = pd.read_excel('./Data/Rec_sys_data.xlsx', 'order')\n",
    "df_customer = pd.read_excel('./Data/Rec_sys_data.xlsx', 'customer')\n",
    "df_product = pd.read_excel('./Data/Rec_sys_data.xlsx', 'product')"
   ]
  },
  {
   "cell_type": "code",
   "execution_count": 19,
   "metadata": {
    "colab": {
     "base_uri": "https://localhost:8080/",
     "height": 206
    },
    "id": "hrH92rSu3RCD",
    "outputId": "fee2cd20-2349-4131-a5f9-2a29818a7c4f"
   },
   "outputs": [
    {
     "data": {
      "text/html": [
       "<div>\n",
       "<style scoped>\n",
       "    .dataframe tbody tr th:only-of-type {\n",
       "        vertical-align: middle;\n",
       "    }\n",
       "\n",
       "    .dataframe tbody tr th {\n",
       "        vertical-align: top;\n",
       "    }\n",
       "\n",
       "    .dataframe thead th {\n",
       "        text-align: right;\n",
       "    }\n",
       "</style>\n",
       "<table border=\"1\" class=\"dataframe\">\n",
       "  <thead>\n",
       "    <tr style=\"text-align: right;\">\n",
       "      <th></th>\n",
       "      <th>userID</th>\n",
       "      <th>itemID</th>\n",
       "      <th>timestamp</th>\n",
       "      <th>prediction</th>\n",
       "    </tr>\n",
       "  </thead>\n",
       "  <tbody>\n",
       "    <tr>\n",
       "      <th>185094</th>\n",
       "      <td>12346</td>\n",
       "      <td>23172</td>\n",
       "      <td>NaT</td>\n",
       "      <td>0.984732</td>\n",
       "    </tr>\n",
       "    <tr>\n",
       "      <th>185095</th>\n",
       "      <td>12346</td>\n",
       "      <td>23174</td>\n",
       "      <td>NaT</td>\n",
       "      <td>0.983973</td>\n",
       "    </tr>\n",
       "    <tr>\n",
       "      <th>185093</th>\n",
       "      <td>12346</td>\n",
       "      <td>23173</td>\n",
       "      <td>NaT</td>\n",
       "      <td>0.980423</td>\n",
       "    </tr>\n",
       "    <tr>\n",
       "      <th>185150</th>\n",
       "      <td>12346</td>\n",
       "      <td>23245</td>\n",
       "      <td>NaT</td>\n",
       "      <td>0.979409</td>\n",
       "    </tr>\n",
       "    <tr>\n",
       "      <th>185893</th>\n",
       "      <td>12346</td>\n",
       "      <td>23175</td>\n",
       "      <td>NaT</td>\n",
       "      <td>0.975739</td>\n",
       "    </tr>\n",
       "  </tbody>\n",
       "</table>\n",
       "</div>"
      ],
      "text/plain": [
       "        userID  itemID timestamp  prediction\n",
       "185094   12346   23172       NaT    0.984732\n",
       "185095   12346   23174       NaT    0.983973\n",
       "185093   12346   23173       NaT    0.980423\n",
       "185150   12346   23245       NaT    0.979409\n",
       "185893   12346   23175       NaT    0.975739"
      ]
     },
     "execution_count": 19,
     "metadata": {},
     "output_type": "execute_result"
    }
   ],
   "source": [
    "all_predictions[all_predictions['userID']==12346].nlargest(5,'prediction')"
   ]
  },
  {
   "cell_type": "code",
   "execution_count": 20,
   "metadata": {
    "id": "GE67RjSC75qb"
   },
   "outputs": [],
   "source": [
    "all_predictions = all_predictions[['userID','itemID','prediction']]"
   ]
  },
  {
   "cell_type": "code",
   "execution_count": 21,
   "metadata": {
    "id": "agUv0QI08fpm"
   },
   "outputs": [],
   "source": [
    "all_predictions = all_predictions.rename(columns={\n",
    "\n",
    "    \"userID\":'CustomerID',\"itemID\":'StockCode',\"rating\":'Quantity','prediction':'probability'\n",
    "\n",
    "})"
   ]
  },
  {
   "cell_type": "markdown",
   "metadata": {
    "id": "yjLD9I-C_UAJ"
   },
   "source": []
  },
  {
   "cell_type": "code",
   "execution_count": 22,
   "metadata": {
    "id": "J91Xf9WJ47ZC"
   },
   "outputs": [],
   "source": [
    "def recommend_product(customer_id):\n",
    "\n",
    "  print(\" \\n---------- Top 5 Bought StockCodes -----------\\n\")\n",
    "\n",
    "\n",
    "  print(df_order[df_order['CustomerID']==customer_id][['CustomerID','StockCode','Quantity']].nlargest(5,'Quantity'))\n",
    "\n",
    "  top_5_bought = df_order[df_order['CustomerID']==customer_id][['CustomerID','StockCode','Quantity']].nlargest(5,'Quantity')\n",
    "\n",
    "  print('\\n-------Product Name of bought StockCodes ------\\n')\n",
    "\n",
    "  print(df_product[df_product.StockCode.isin(top_5_bought.StockCode)]['Product Name'])\n",
    "\n",
    "\n",
    "  print(\"\\n --------- Top 5 Recommendations ------------ \\n\")\n",
    "\n",
    "  print(all_predictions[all_predictions['CustomerID']==customer_id].nlargest(5,'probability'))\n",
    "\n",
    "  recommend = all_predictions[all_predictions['CustomerID']==customer_id].nlargest(5,'probability')\n",
    "\n",
    "  print('\\n-------Product Name of Recommendations ------\\n')\n",
    "\n",
    "  print(df_product[df_product.StockCode.isin(recommend.StockCode)]['Product Name'])\n"
   ]
  },
  {
   "cell_type": "markdown",
   "metadata": {
    "id": "zH8aPyEv_Vsa"
   },
   "source": [
    "##5. Recommendation's"
   ]
  },
  {
   "cell_type": "code",
   "execution_count": 29,
   "metadata": {
    "colab": {
     "base_uri": "https://localhost:8080/"
    },
    "id": "c8gBM4Cr7P_3",
    "outputId": "5c590874-f740-4e21-9b7b-c3e2b9cf1017"
   },
   "outputs": [
    {
     "name": "stdout",
     "output_type": "stream",
     "text": [
      " \n",
      "---------- Top 5 Bought StockCodes -----------\n",
      "\n",
      "      CustomerID StockCode  Quantity\n",
      "3170       13138     22915        24\n",
      "3178       13138     21422        16\n",
      "3168       13138     22147        12\n",
      "3169       13138     22585        12\n",
      "3172       13138     20971        12\n",
      "\n",
      "-------Product Name of bought StockCodes ------\n",
      "\n",
      "355           IN-16/1186 Surfing Rubber Duckies Per Dozen\n",
      "429     MightySkins Skin Decal Wrap Compatible with Sm...\n",
      "913     CafePress - Spider-Man Teacher - Women's Dark ...\n",
      "957     Eye Buy Express Kids Childrens Reading Glasses...\n",
      "1206                                Women's Breeze Walker\n",
      "Name: Product Name, dtype: object\n",
      "\n",
      " --------- Top 5 Recommendations ------------ \n",
      "\n",
      "         CustomerID  StockCode  probability\n",
      "1515069       13138      22570     0.980341\n",
      "1515014       13138      22749     0.965419\n",
      "1515005       13138      22274     0.960423\n",
      "1515173       13138      22271     0.951713\n",
      "1515004       13138      20972     0.944929\n",
      "\n",
      "-------Product Name of Recommendations ------\n",
      "\n",
      "23      Replacement for NATIONAL STOCK NUMBER NSN 6240...\n",
      "173     Abstract Heart Plant Wall Decal - Wall Sticker...\n",
      "846     MightySkins Skin for Facebook Portal+ - Acid |...\n",
      "1492    MightySkins Skin Decal Wrap Compatible with Ni...\n",
      "1499    MightySkins Skin Decal Wrap Compatible with Ot...\n",
      "Name: Product Name, dtype: object\n"
     ]
    }
   ],
   "source": [
    "recommend_product(13138)"
   ]
  },
  {
   "cell_type": "code",
   "execution_count": 24,
   "metadata": {
    "colab": {
     "base_uri": "https://localhost:8080/"
    },
    "id": "8WKR_H9Y9weE",
    "outputId": "10968de8-bdc0-4d08-ff68-263153fe9b42"
   },
   "outputs": [
    {
     "name": "stdout",
     "output_type": "stream",
     "text": [
      " \n",
      "---------- Top 5 Bought StockCodes -----------\n",
      "\n",
      "        CustomerID StockCode  Quantity\n",
      "272296       15127     23263        48\n",
      "272287       15127     23354        24\n",
      "272288       15127     22813        24\n",
      "272289       15127     23096        24\n",
      "272285       15127     21181        12\n",
      "\n",
      "-------Product Name of bought StockCodes ------\n",
      "\n",
      "13                billyboards Porcelain School Chalkboard\n",
      "374     MightySkins Protective Vinyl Skin Decal for Po...\n",
      "923     Zoan Synchrony Duo Sport Electric Snow Helmet ...\n",
      "952     MightySkins Skin Decal Wrap Compatible with Sm...\n",
      "1576    EMPIRE KLIX Klutch Designer Wallet Case for LG G2\n",
      "Name: Product Name, dtype: object\n",
      "\n",
      " --------- Top 5 Recommendations ------------ \n",
      "\n",
      "         CustomerID  StockCode  probability\n",
      "4695096       15127      23355     0.954730\n",
      "4695146       15127      23356     0.922041\n",
      "4694949       15127      22158     0.915638\n",
      "4693806       15127      84347     0.869073\n",
      "4694415       15127      22141     0.848037\n",
      "\n",
      "-------Product Name of Recommendations ------\n",
      "\n",
      "16      JustVH Women's Solid Henley V-Neck Casual Blou...\n",
      "404     A6 Invitation Envelopes w/Peel & Press (4 3/4 ...\n",
      "963      Boyesen Waterpump and Impeller Kit White WPK-07W\n",
      "1275              Ply Gem Raised Panel Shutter (Set of 2)\n",
      "1713    Ebe Prescription Glasses Mens Womens Burgundy ...\n",
      "Name: Product Name, dtype: object\n"
     ]
    }
   ],
   "source": [
    "recommend_product(15127)\n"
   ]
  },
  {
   "cell_type": "markdown",
   "metadata": {
    "id": "7vhoTZHrOSMj"
   },
   "source": []
  }
 ],
 "metadata": {
  "colab": {
   "collapsed_sections": [],
   "name": "Deep_Learning_Recommendation_System.ipynb",
   "provenance": []
  },
  "kernelspec": {
   "display_name": "Python 3 (ipykernel)",
   "language": "python",
   "name": "python3"
  },
  "language_info": {
   "codemirror_mode": {
    "name": "ipython",
    "version": 3
   },
   "file_extension": ".py",
   "mimetype": "text/x-python",
   "name": "python",
   "nbconvert_exporter": "python",
   "pygments_lexer": "ipython3",
   "version": "3.9.13"
  }
 },
 "nbformat": 4,
 "nbformat_minor": 1
}
